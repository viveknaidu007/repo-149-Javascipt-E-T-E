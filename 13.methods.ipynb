{
 "cells": [
  {
   "cell_type": "code",
   "execution_count": null,
   "metadata": {},
   "outputs": [],
   "source": []
  },
  {
   "cell_type": "code",
   "execution_count": null,
   "metadata": {},
   "outputs": [],
   "source": []
  },
  {
   "cell_type": "markdown",
   "metadata": {},
   "source": [
    "![p](0.images\\img10.png)"
   ]
  },
  {
   "cell_type": "code",
   "execution_count": null,
   "metadata": {},
   "outputs": [],
   "source": [
    "#\n",
    "\n",
    "#here the array and string and object represents the string , Array , object Data types"
   ]
  },
  {
   "cell_type": "code",
   "execution_count": null,
   "metadata": {},
   "outputs": [],
   "source": [
    "#Array methods"
   ]
  },
  {
   "cell_type": "markdown",
   "metadata": {},
   "source": [
    "![p](0.images\\img11.png)"
   ]
  },
  {
   "cell_type": "code",
   "execution_count": null,
   "metadata": {
    "vscode": {
     "languageId": "javascript"
    }
   },
   "outputs": [],
   "source": [
    "// let collections = [\"akash\", 55, true , {name:\"pratap\"}]\n",
    "\n",
    "//push() = (\"adds one or more elements to the end of an array and returns the new length.\")\n",
    "\n",
    "let sports = [\"cricket\", \"football\"]\n",
    "\n",
    "sports.push(\"socker\")\n",
    "\n",
    "document.write(sports)\n",
    "\n",
    "\n"
   ]
  },
  {
   "cell_type": "code",
   "execution_count": null,
   "metadata": {
    "vscode": {
     "languageId": "javascript"
    }
   },
   "outputs": [],
   "source": [
    "// pop() = (\"removes the last element from an array and returns that element\")\n",
    "\n",
    "ex1:\n",
    "let books = [\"maths\",\"physics\",\"chemistry\"]\n",
    "books.pop()\n",
    "document.write(books)\n",
    "\n",
    "ex2:\n",
    "let books = [\"maths\",\"physics\",\"chemistry\"]\n",
    "let someresult = books.pop()\n",
    "document.write(books + \"<br>\")\n",
    "document.write(\"delayed by pop method is\" + someresult)\n"
   ]
  },
  {
   "cell_type": "code",
   "execution_count": null,
   "metadata": {
    "vscode": {
     "languageId": "javascript"
    }
   },
   "outputs": [],
   "source": [
    "// shift() = (\"removes the first element from an array and returns that element.\")\n",
    "\n",
    "let states = [\"delhi\",\"mumbai\",\"hyderabad\"];\n",
    "states.shift()\n",
    "document.write(states+\"<br>\")\n",
    "document.write(states.length+\"<br>\")\n",
    "\n",
    "\n",
    "ex2: to see which element was deleted\n",
    "\n",
    "let states = [\"delhi\",\"mumbai\",\"hyderabad\"];\n",
    "let newstates = states.shift()\n",
    "document.write(states+\"<br>\")\n",
    "document.write(states.length+\"<br>\")\n",
    "document.write(newstates + \"<br>\")"
   ]
  },
  {
   "cell_type": "code",
   "execution_count": null,
   "metadata": {
    "vscode": {
     "languageId": "javascript"
    }
   },
   "outputs": [],
   "source": [
    "// unshift() = (\"adds one or more elements to the begging of an array and returns the new length.\")\n",
    "\n",
    "let scores = [22,55,66,85,90,\"vivek\"];\n",
    "scores.unshift(\"teja\");\n",
    "\n",
    "document.write(scores)"
   ]
  }
 ],
 "metadata": {
  "language_info": {
   "name": "python"
  }
 },
 "nbformat": 4,
 "nbformat_minor": 2
}
