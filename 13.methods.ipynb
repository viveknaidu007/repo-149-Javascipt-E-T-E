{
 "cells": [
  {
   "cell_type": "code",
   "execution_count": null,
   "metadata": {},
   "outputs": [],
   "source": []
  },
  {
   "cell_type": "code",
   "execution_count": null,
   "metadata": {},
   "outputs": [],
   "source": []
  },
  {
   "cell_type": "markdown",
   "metadata": {},
   "source": [
    "![p](0.images\\img10.png)"
   ]
  },
  {
   "cell_type": "code",
   "execution_count": null,
   "metadata": {},
   "outputs": [],
   "source": [
    "#\n",
    "\n",
    "#here the array and string and object represents the string , Array , object Data types"
   ]
  },
  {
   "cell_type": "code",
   "execution_count": null,
   "metadata": {},
   "outputs": [],
   "source": [
    "#Array methods"
   ]
  },
  {
   "cell_type": "markdown",
   "metadata": {},
   "source": [
    "![p](0.images\\img11.png)"
   ]
  },
  {
   "cell_type": "code",
   "execution_count": null,
   "metadata": {
    "vscode": {
     "languageId": "javascript"
    }
   },
   "outputs": [],
   "source": [
    "// let collections = [\"akash\", 55, true , {name:\"pratap\"}]\n",
    "\n",
    "//push() = (\"adds one or more elements to the end of an array and returns the new length.\")\n",
    "\n",
    "let sports = [\"cricket\", \"football\"]\n",
    "\n",
    "sports.push(\"socker\")\n",
    "\n",
    "document.write(sports)\n",
    "\n",
    "\n"
   ]
  },
  {
   "cell_type": "code",
   "execution_count": null,
   "metadata": {
    "vscode": {
     "languageId": "javascript"
    }
   },
   "outputs": [],
   "source": [
    "// pop() = (\"removes the last element from an array and returns that element\")\n",
    "\n",
    "ex1:\n",
    "let books = [\"maths\",\"physics\",\"chemistry\"]\n",
    "books.pop()\n",
    "document.write(books)\n",
    "\n",
    "ex2:\n",
    "let books = [\"maths\",\"physics\",\"chemistry\"]\n",
    "let someresult = books.pop()\n",
    "document.write(books + \"<br>\")\n",
    "document.write(\"delayed by pop method is\" + someresult)\n"
   ]
  },
  {
   "cell_type": "code",
   "execution_count": null,
   "metadata": {
    "vscode": {
     "languageId": "javascript"
    }
   },
   "outputs": [],
   "source": [
    "// shift() = (\"removes the first element from an array and returns that element.\")\n",
    "\n",
    "let states = [\"delhi\",\"mumbai\",\"hyderabad\"];\n",
    "states.shift()\n",
    "document.write(states+\"<br>\")\n",
    "document.write(states.length+\"<br>\")\n",
    "\n",
    "\n",
    "ex2: to see which element was deleted\n",
    "\n",
    "let states = [\"delhi\",\"mumbai\",\"hyderabad\"];\n",
    "let newstates = states.shift()\n",
    "document.write(states+\"<br>\")\n",
    "document.write(states.length+\"<br>\")\n",
    "document.write(newstates + \"<br>\")"
   ]
  },
  {
   "cell_type": "code",
   "execution_count": null,
   "metadata": {
    "vscode": {
     "languageId": "javascript"
    }
   },
   "outputs": [],
   "source": [
    "// unshift() = (\"adds one or more elements to the begging of an array and returns the new length.\")\n",
    "\n",
    "let scores = [22,55,66,85,90,\"vivek\"];\n",
    "scores.unshift(\"teja\",25);\n",
    "\n",
    "document.write(scores)\n",
    "document.write(scores.length)"
   ]
  },
  {
   "cell_type": "code",
   "execution_count": null,
   "metadata": {
    "vscode": {
     "languageId": "javascript"
    }
   },
   "outputs": [],
   "source": [
    "// concat() = (\"combine two or more arrays and returns a new array.\")\n",
    "\n",
    "let scores = [11,22,33,44];\n",
    "let players = [\"amith\", \"suresh\", \"mahesh\"]\n",
    "let newplayers = scores.concat(players)\n",
    "\n",
    "document.write(newplayers)"
   ]
  },
  {
   "cell_type": "code",
   "execution_count": null,
   "metadata": {
    "vscode": {
     "languageId": "javascript"
    }
   },
   "outputs": [],
   "source": [
    " // join() = \"creates a new string by concating all the elements of an array and returns a string by a specified separated\"\n",
    "\n",
    " var team = [10,20,30, \"vivek\", \"teja\", \"hero\"]\n",
    " var myteam = team.join(\"***\")\n",
    " document.write(myteam)"
   ]
  },
  {
   "cell_type": "code",
   "execution_count": null,
   "metadata": {
    "vscode": {
     "languageId": "javascript"
    }
   },
   "outputs": [],
   "source": [
    "// slice() = (\"returns a shallow copy of a portion of an array into a new array\")\n",
    "\n",
    "let students = [\"vivek\",\"teja\",\"hero\",10,20,30,40,50]\n",
    "let mystudents = students.slice(0,4)\n",
    "document.write(mystudents)\n",
    "console.log(students)"
   ]
  },
  {
   "cell_type": "code",
   "execution_count": null,
   "metadata": {
    "vscode": {
     "languageId": "javascript"
    }
   },
   "outputs": [],
   "source": [
    "// splice() = (\"returns a shallow copy of a portion of an array into a new array\")\n",
    "\n",
    "//type1:\n",
    "let mynumbers = [0,1,2,3,4,5,6,7,8]\n",
    "let mynewnumbers = mynumbers.splice(0,5)\n",
    "document.write(mynumbers + \"<br>\")\n",
    "document.write(mynewnumbers)\n",
    "\n",
    "//type2:it will add , without disturbing\n",
    "let mynumbers = [0,1,2,3,4,5,6,7,8]\n",
    "let mynewnumbers = mynumbers.splice(3,0,\"vivek\")\n",
    "document.write(mynumbers + \"<br>\")\n",
    "document.write(mynewnumbers)\n",
    "\n",
    "//type3: it will replace\n",
    "let mynumbers = [0,1,2,3,4,5,6,7,8]\n",
    "let mynewnumbers = mynumbers.splice(3,1,\"vivek\")\n",
    "document.write(mynumbers + \"<br>\")\n",
    "document.write(mynewnumbers)\n"
   ]
  },
  {
   "cell_type": "code",
   "execution_count": null,
   "metadata": {
    "vscode": {
     "languageId": "javascript"
    }
   },
   "outputs": [],
   "source": [
    "// indexOf() = \"returns the first index at which a given element can be found in an array , \n",
    "// or -1 if it is not present\"\n",
    "\n",
    "let students = [\"anil\",\"vivek\",\"teja\",\"pawan\",\"hero\"]\n",
    "document.write(students.indexOf(\"vivek\"))\n",
    "\n",
    "// it will display the index number , and if it doesnt exist it will return \"-1\"\n",
    "\n",
    "ex:\n",
    "let students = [\"anil\",\"vivek\",\"tejsa\"]\n",
    "let newstudent = students.indexOf(\"noob\")\n",
    "\n",
    "if (newstudent === -1){\n",
    "    students.push(\"abcd\")\n",
    "} \n",
    "\n",
    "document.write(students)"
   ]
  },
  {
   "cell_type": "code",
   "execution_count": null,
   "metadata": {
    "vscode": {
     "languageId": "javascript"
    }
   },
   "outputs": [],
   "source": [
    "// foreach() = \"executes a provided function once for each array element.\"\n",
    "\n",
    "let scores = [10,20,30,40,50,60];\n",
    "let students = [\"suresh\",\"murali\",\"nagraj\",\"vivek\"]\n",
    "document.write(students)\n",
    "\n",
    "//usecase:\n",
    "let scores = [10,20,30,40,50,60];\n",
    "let students = [\"suresh\",\"murali\",\"nagraj\",\"vivek\"]\n",
    "\n",
    "students.forEach(function(item){\n",
    "    document.write(item + \"<br>\")\n",
    "})\n",
    "\n",
    "\n",
    "//usecase 2:\n",
    "let scores = [10,20,30,40,50,60];\n",
    "let students = [\"suresh\",\"murali\",\"nagraj\",\"vivek\"]\n",
    "\n",
    "students.forEach(function(item,index){\n",
    "    document.write(index + \".\" + item + \"<br>\")\n",
    "})\n",
    "\n",
    "\n",
    "//usecase 3:\n",
    "let scores = [10,20,30,40,50,60];\n",
    "let students = [\"suresh\",\"murali\",\"nagraj\",\"vivek\"]\n",
    "\n",
    "students.forEach(function(item,index){\n",
    "    document.write(index + \".\" + item + \"<br>\")\n",
    "})\n",
    "\n",
    "scores.forEach(function (apple){\n",
    "    document.write(apple * 2 + \"<br>\")\n",
    "})"
   ]
  },
  {
   "cell_type": "code",
   "execution_count": null,
   "metadata": {
    "vscode": {
     "languageId": "javascript"
    }
   },
   "outputs": [],
   "source": [
    "// multidimentional arrays\n",
    "\n",
    "let marks = [\n",
    "    [\n",
    "        [\"anil\",\"amar\",\"anthony\"],\n",
    "        [\"banti\",\"bably\",\"bhanu\"]\n",
    "    ],\n",
    "    [10,20,30],\n",
    "    [40,50,60,70],\n",
    "    [80,90],\n",
    "    [100,110,120,130,140,150,160,170,180,]\n",
    "    ]\n",
    "\n",
    "    \n",
    "document.write(\"my expected result :\", marks[0][0][1])"
   ]
  },
  {
   "cell_type": "markdown",
   "metadata": {},
   "source": [
    "// slice() ="
   ]
  },
  {
   "cell_type": "markdown",
   "metadata": {},
   "source": [
    "# String methods\n"
   ]
  },
  {
   "cell_type": "markdown",
   "metadata": {},
   "source": [
    "![p](0.images\\img12.png)"
   ]
  },
  {
   "cell_type": "code",
   "execution_count": null,
   "metadata": {
    "vscode": {
     "languageId": "javascript"
    }
   },
   "outputs": [],
   "source": [
    "// split() :\n",
    "\n",
    "var sample = \"this is a string sample text\"\n",
    "document.write(sample.split(\"\"))\n",
    "\n",
    "\n"
   ]
  },
  {
   "cell_type": "code",
   "execution_count": null,
   "metadata": {
    "vscode": {
     "languageId": "javascript"
    }
   },
   "outputs": [],
   "source": [
    "// trim():\n",
    "\n",
    "\n",
    "var student = \"    ramesh      \";\n",
    "document.write(student);\n",
    "console.log(student.trim())"
   ]
  },
  {
   "cell_type": "code",
   "execution_count": null,
   "metadata": {
    "vscode": {
     "languageId": "javascript"
    }
   },
   "outputs": [],
   "source": [
    "// charAT() :\n",
    "\n",
    "var student = \"vivek\"\n",
    "document.write(student.charAt(3))"
   ]
  },
  {
   "cell_type": "code",
   "execution_count": null,
   "metadata": {
    "vscode": {
     "languageId": "javascript"
    }
   },
   "outputs": [],
   "source": [
    "// try these :\n",
    "\n",
    "/* \n",
    "substring()\n",
    "replace()\n",
    "toUpperCase()\n",
    "toLowerCase()\n",
    "*/"
   ]
  }
 ],
 "metadata": {
  "language_info": {
   "name": "python"
  }
 },
 "nbformat": 4,
 "nbformat_minor": 2
}
