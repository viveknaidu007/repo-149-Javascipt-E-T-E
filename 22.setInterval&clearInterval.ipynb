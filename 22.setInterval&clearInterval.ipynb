{
 "cells": [
  {
   "cell_type": "code",
   "execution_count": null,
   "metadata": {},
   "outputs": [],
   "source": [
    "// "
   ]
  },
  {
   "cell_type": "code",
   "execution_count": null,
   "metadata": {
    "vscode": {
     "languageId": "javascript"
    }
   },
   "outputs": [],
   "source": [
    "// Set & Clear Intervals"
   ]
  },
  {
   "cell_type": "code",
   "execution_count": null,
   "metadata": {
    "vscode": {
     "languageId": "javascript"
    }
   },
   "outputs": [],
   "source": [
    "// set interval : if we want to performa n action at particular time , this can be useful , and we can select a function , it exceute that partical function at certain time  , it can be possible with setInterval()\n",
    "\n"
   ]
  },
  {
   "cell_type": "markdown",
   "metadata": {},
   "source": [
    "![p](0.images\\img26.png)"
   ]
  },
  {
   "cell_type": "code",
   "execution_count": null,
   "metadata": {
    "vscode": {
     "languageId": "javascript"
    }
   },
   "outputs": [],
   "source": [
    ".js :\n",
    "\n",
    "const Animator = setInterval(sampleAnimation, 1000)\n",
    "\n",
    "let a = 0;\n",
    "\n",
    "function sampleAnimation() {\n",
    "    a=a+1\n",
    "\n",
    "    const textanimation = document.getElementById(\"title\")\n",
    "    textanimation.style.fontSize = a+\"rem\"\n",
    "}\n",
    "\n",
    "\n",
    "ex2:\n",
    "const Animator = setInterval(sampleAnimation, 1000)\n",
    "\n",
    "let a = 0;\n",
    "\n",
    "function sampleAnimation() {\n",
    "    a=a+1\n",
    "\n",
    "    if (a==10) {\n",
    "        clearInterval(Animator)\n",
    "    }\n",
    "    else{\n",
    "\n",
    "    const textanimation = document.getElementById(\"title\")\n",
    "    textanimation.style.fontSize = a+\"rem\"\n",
    "    }\n",
    "}"
   ]
  },
  {
   "cell_type": "code",
   "execution_count": null,
   "metadata": {
    "vscode": {
     "languageId": "javascript"
    }
   },
   "outputs": [],
   "source": []
  }
 ],
 "metadata": {
  "language_info": {
   "name": "python"
  }
 },
 "nbformat": 4,
 "nbformat_minor": 2
}
