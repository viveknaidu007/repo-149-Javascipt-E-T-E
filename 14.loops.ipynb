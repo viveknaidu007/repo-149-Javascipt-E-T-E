{
 "cells": [
  {
   "cell_type": "code",
   "execution_count": null,
   "metadata": {},
   "outputs": [],
   "source": []
  },
  {
   "cell_type": "markdown",
   "metadata": {},
   "source": [
    "# Loops"
   ]
  },
  {
   "cell_type": "code",
   "execution_count": null,
   "metadata": {
    "vscode": {
     "languageId": "javascript"
    }
   },
   "outputs": [],
   "source": [
    "/*\n",
    "\n",
    "- Repetition and automation\n",
    "- Iterating over data\n",
    "- Control flow\n",
    "- Data manipulation\n",
    "\n",
    "*/"
   ]
  },
  {
   "cell_type": "code",
   "execution_count": null,
   "metadata": {
    "vscode": {
     "languageId": "javascript"
    }
   },
   "outputs": [],
   "source": [
    "// types of loops :\n",
    "\n",
    "/*\n",
    "\n",
    "1. for\n",
    "2. while\n",
    "3. do-while\n",
    "4. forEach\n",
    "5. for-in\n",
    "\n",
    "*/"
   ]
  },
  {
   "cell_type": "markdown",
   "metadata": {},
   "source": [
    "![p](0.images\\img13.png)"
   ]
  },
  {
   "cell_type": "markdown",
   "metadata": {},
   "source": [
    "![p](0.images\\img14.png)"
   ]
  },
  {
   "cell_type": "code",
   "execution_count": null,
   "metadata": {
    "vscode": {
     "languageId": "javascript"
    }
   },
   "outputs": [],
   "source": [
    "// for loop:\n",
    "\n",
    "// increment:\n",
    "for (var a=0; a<10; a++){\n",
    "    document.write(a + \".) \" + \"i love india\" + \"<br>\")\n",
    "}\n",
    "\n",
    "\n",
    "//decrement:\n",
    "for (var a=10; a>=1; a--){\n",
    "    document.write(a + \")\" + \" i love india\" + \"<br>\")\n",
    "}"
   ]
  },
  {
   "cell_type": "code",
   "execution_count": null,
   "metadata": {
    "vscode": {
     "languageId": "javascript"
    }
   },
   "outputs": [],
   "source": [
    "// while-loop:\n",
    "\n",
    "let x=0;\n",
    "\n",
    "while (x<=10){\n",
    "    document.write(x + \")\" + \"hello vivek\" + \"<br>\")\n",
    "    x++\n",
    "}\n",
    "\n",
    "\n",
    "ex2:\n",
    "\n",
    "let y = 0;\n",
    "do {\n",
    "    document.write(\"this is do-while output\" + \"<br>\")\n",
    "    console.log(\"some statement\")\n",
    "    y++\n",
    "} while (y<20)"
   ]
  },
  {
   "cell_type": "code",
   "execution_count": null,
   "metadata": {
    "vscode": {
     "languageId": "javascript"
    }
   },
   "outputs": [],
   "source": [
    "// do-while\n",
    "\n",
    "\n",
    "var amount = 100;\n",
    "var days = 30;\n",
    "var interest = 2\n",
    "\n",
    "for (let i=1; i<=days; i++) {\n",
    "    if (i%4 == 0){\n",
    "        amount += interest\n",
    "    }\n",
    "    document.write(\"ur amount for\" + i + \"th day\" + amount + \"<br>\")\n",
    "}\n"
   ]
  }
 ],
 "metadata": {
  "language_info": {
   "name": "python"
  }
 },
 "nbformat": 4,
 "nbformat_minor": 2
}
