{
 "cells": [
  {
   "cell_type": "code",
   "execution_count": null,
   "metadata": {},
   "outputs": [],
   "source": []
  },
  {
   "cell_type": "markdown",
   "metadata": {},
   "source": [
    "# Loops"
   ]
  },
  {
   "cell_type": "code",
   "execution_count": null,
   "metadata": {
    "vscode": {
     "languageId": "javascript"
    }
   },
   "outputs": [],
   "source": [
    "/*\n",
    "\n",
    "- Repetition and automation\n",
    "- Iterating over data\n",
    "- Control flow\n",
    "- Data manipulation\n",
    "\n",
    "*/"
   ]
  },
  {
   "cell_type": "code",
   "execution_count": null,
   "metadata": {
    "vscode": {
     "languageId": "javascript"
    }
   },
   "outputs": [],
   "source": [
    "// types of loops :\n",
    "\n",
    "/*\n",
    "\n",
    "1. for\n",
    "2. while\n",
    "3. do-while\n",
    "4. forEach\n",
    "5. for-in\n",
    "\n",
    "*/"
   ]
  },
  {
   "cell_type": "markdown",
   "metadata": {},
   "source": [
    "![p](0.images\\img14.png)"
   ]
  },
  {
   "cell_type": "code",
   "execution_count": null,
   "metadata": {
    "vscode": {
     "languageId": "javascript"
    }
   },
   "outputs": [],
   "source": [
    "// for loop:\n",
    "\n",
    "// increment:\n",
    "for (var a=0; a<10; a++){\n",
    "    document.write(a + \".) \" + \"i love india\" + \"<br>\")\n",
    "}\n",
    "\n",
    "\n",
    "//decrement:\n",
    "for (var a=10; a>=1; a--){\n",
    "    document.write(a + \")\" + \" i love india\" + \"<br>\")\n",
    "}"
   ]
  }
 ],
 "metadata": {
  "language_info": {
   "name": "python"
  }
 },
 "nbformat": 4,
 "nbformat_minor": 2
}
