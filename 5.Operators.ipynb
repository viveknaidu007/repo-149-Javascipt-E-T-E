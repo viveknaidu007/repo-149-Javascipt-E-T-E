{
 "cells": [
  {
   "cell_type": "code",
   "execution_count": null,
   "metadata": {},
   "outputs": [],
   "source": [
    "# Operators & Expression:"
   ]
  },
  {
   "cell_type": "code",
   "execution_count": null,
   "metadata": {},
   "outputs": [],
   "source": [
    "Arithmetic operators\n",
    "Assignment operators\n",
    "Comparision operators\n",
    "Logical operators"
   ]
  },
  {
   "cell_type": "code",
   "execution_count": null,
   "metadata": {},
   "outputs": [],
   "source": [
    "#Arthmetic Operators:\n",
    "\n",
    "Addition\n",
    "Subtraction\n",
    "Multiplication\n",
    "Division\n",
    "Remainder (Modulus)\n",
    "Increment\n",
    "Decrement"
   ]
  },
  {
   "cell_type": "code",
   "execution_count": null,
   "metadata": {},
   "outputs": [],
   "source": [
    "#project.js : + - * / %\n",
    "\n",
    "var a=30;\n",
    "var b=20;\n",
    "document.write(\"results\",a+b,\"<br>\")\n",
    "document.write(\"results\",a-b,\"<br>\")\n",
    "document.write(\"results\",a*b,\"<br>\")\n",
    "document.write(\"results\",a/b,\"<br>\")\n",
    "document.write(\"results\",a%b,\"<br>\")\n",
    "\n",
    "\n"
   ]
  },
  {
   "cell_type": "code",
   "execution_count": null,
   "metadata": {},
   "outputs": [],
   "source": [
    "#project.js : Increment\n",
    "\n",
    "var a=30;\n",
    "a++\n",
    "var b=20;\n",
    "b++\n",
    "\n",
    "document.write(\"results\",a,\"<br>\")\n",
    "document.write(\"results\",b,\"<br>\")\n"
   ]
  },
  {
   "cell_type": "code",
   "execution_count": null,
   "metadata": {},
   "outputs": [],
   "source": [
    "#project.js : decrement\n",
    "\n",
    "var a=30;\n",
    "a--\n",
    "var b=20;\n",
    "b--\n",
    "\n",
    "document.write(\"results\",a,\"<br>\")\n",
    "document.write(\"results\",b,\"<br>\")"
   ]
  },
  {
   "cell_type": "code",
   "execution_count": null,
   "metadata": {},
   "outputs": [],
   "source": []
  },
  {
   "cell_type": "markdown",
   "metadata": {},
   "source": [
    "# Control Flow \n",
    "  & \n",
    "# conditional Statements"
   ]
  },
  {
   "cell_type": "code",
   "execution_count": null,
   "metadata": {},
   "outputs": [],
   "source": [
    "if\n",
    "if-else\n",
    "if else-if\n",
    "switch"
   ]
  },
  {
   "cell_type": "code",
   "execution_count": null,
   "metadata": {},
   "outputs": [],
   "source": [
    "#if syntax:\n",
    "\n",
    "if(){\n",
    "\n",
    "}\n",
    "\n",
    "ex :\n",
    "var game = \"cricket\";\n",
    "\n",
    "let captain = \"dhoni\"\n",
    "\n",
    "if(game==\"cricket\"){\n",
    "    document.write(\"match captain is\", captain)\n",
    "}\n"
   ]
  },
  {
   "cell_type": "code",
   "execution_count": null,
   "metadata": {},
   "outputs": [],
   "source": [
    "#if-else syntax :\n",
    "\n",
    "if(){\n",
    "\n",
    "}\n",
    "else{\n",
    "\n",
    "}\n",
    "\n",
    "\n",
    "ex:\n",
    "\n",
    "var game = \"cricket\";\n",
    "\n",
    "let captain = \"vivek\"\n",
    "\n",
    "if(game==\"hello\"){\n",
    "    document.write(\"match captain is : \", captain)\n",
    "}\n",
    "else{\n",
    "    document.write(\"soory ur wrong\")\n",
    "}\n"
   ]
  },
  {
   "cell_type": "code",
   "execution_count": null,
   "metadata": {},
   "outputs": [],
   "source": [
    "#if else-if syntax:\n",
    "\n",
    "if(){\n",
    "\n",
    "}\n",
    "else if (){\n",
    "\n",
    "}\n",
    "else{\n",
    "\n",
    "}\n",
    "\n",
    "\n",
    "ex :\n",
    "var game = \"cricket\";\n",
    "\n",
    "let captain = \"vivek\";\n",
    "\n",
    "const tennis = \"sania\"\n",
    "\n",
    "if(game==\"hello\"){\n",
    "    document.write(\"match captain is : \", captain)\n",
    "}\n",
    "else if(tennis==\"sania\"){\n",
    "    document.write(\"correct\")\n",
    "}\n",
    "else{\n",
    "    document.write(\"soory ur wrong\")\n",
    "}\n",
    "\n",
    "\n",
    "ex 2:\n",
    "var x=100;\n",
    "var y=50;\n",
    "var z=200;\n",
    "\n",
    "if (x!==y){\n",
    "    document.write(\"green\")\n",
    "}\n",
    "else if(y>z) {\n",
    "    document.write(\"blue\")\n",
    "}\n",
    "else if(z<x){\n",
    "    document.write(\"yellow\")\n",
    "}\n",
    "else {\n",
    "    document.write(\"all wrong statements\")\n",
    "}"
   ]
  },
  {
   "cell_type": "markdown",
   "metadata": {},
   "source": [
    "# logical Operator"
   ]
  },
  {
   "cell_type": "code",
   "execution_count": null,
   "metadata": {},
   "outputs": [],
   "source": [
    "Logicl NOT '!'\n",
    "Logical AND '&&'\n",
    "Logical OR '||'"
   ]
  },
  {
   "cell_type": "markdown",
   "metadata": {},
   "source": [
    "![cc](0.images\\img6.png)"
   ]
  },
  {
   "cell_type": "code",
   "execution_count": null,
   "metadata": {},
   "outputs": [],
   "source": [
    "ex:\n",
    "var x=100;\n",
    "var y=50;\n",
    "var z=200;\n",
    "\n",
    "if (x==y && y<z){\n",
    "    document.write(\"yes correct\")\n",
    "}\n",
    "else {\n",
    "    document.write(\"wrong\")\n",
    "}\n",
    "\n",
    "\n",
    "\n",
    "ex2:\n",
    "var x=100;\n",
    "var y=50;\n",
    "var z=200;\n",
    "\n",
    "if (x!=y && y<z){\n",
    "    document.write(\"yes correct\")\n",
    "}\n",
    "else {\n",
    "    document.write(\"wrong\")\n",
    "}\n",
    "\n",
    "\n",
    "\n",
    "ex3:\n",
    "var x=100;\n",
    "var y=50;\n",
    "var z=200;\n",
    "\n",
    "if (x==y && y<z){\n",
    "    document.write(\"yes correct\")\n",
    "}\n",
    "else if((x+y) > z){\n",
    "    document.write(\"yellow color is printed\")\n",
    "}\n",
    "else if((z>y) && (z<x)){\n",
    "    document.write(\"black color\")\n",
    "}\n",
    "else {\n",
    "    document.write(\" all wrong\")\n",
    "}\n",
    "\n",
    "\n",
    "ex4:\n",
    "var x=100;\n",
    "var y=50;\n",
    "var z=200;\n",
    "\n",
    "\n",
    "if ((x>z) || (z>y)){\n",
    "    document.write(\"z is greater than all\")\n",
    "}"
   ]
  },
  {
   "cell_type": "code",
   "execution_count": null,
   "metadata": {},
   "outputs": [],
   "source": []
  }
 ],
 "metadata": {
  "language_info": {
   "name": "python"
  }
 },
 "nbformat": 4,
 "nbformat_minor": 2
}
