{
 "cells": [
  {
   "cell_type": "code",
   "execution_count": null,
   "metadata": {},
   "outputs": [],
   "source": [
    "# functions with return values"
   ]
  },
  {
   "cell_type": "code",
   "execution_count": null,
   "metadata": {},
   "outputs": [],
   "source": [
    "// function expression\n",
    "// anonymous function\n",
    "// function with parameters and return values"
   ]
  },
  {
   "cell_type": "code",
   "execution_count": null,
   "metadata": {},
   "outputs": [],
   "source": [
    "var a = function apple(){\n",
    "    document.write(\"red in color\")\n",
    "}\n",
    "\n",
    "a();"
   ]
  },
  {
   "cell_type": "code",
   "execution_count": null,
   "metadata": {},
   "outputs": [],
   "source": [
    "function score(a,b){\n",
    "    return a+b\n",
    "}\n",
    "\n",
    "document.write(score(10,20))"
   ]
  },
  {
   "cell_type": "code",
   "execution_count": null,
   "metadata": {},
   "outputs": [],
   "source": [
    "function game(x,y){\n",
    "    return document.write(\"i like\" + x + \" and \" + y)\n",
    "}\n",
    "\n",
    "game(\"cricket\",\"football\")"
   ]
  },
  {
   "cell_type": "code",
   "execution_count": null,
   "metadata": {},
   "outputs": [],
   "source": [
    "var username  = prompt(\"enter ur name\")\n",
    "\n",
    "function guest(myfriend){\n",
    "    return document.write(\"hello welcome : \" + myfriend)\n",
    "}\n",
    "\n",
    "guest(username)"
   ]
  }
 ],
 "metadata": {
  "language_info": {
   "name": "python"
  }
 },
 "nbformat": 4,
 "nbformat_minor": 2
}
