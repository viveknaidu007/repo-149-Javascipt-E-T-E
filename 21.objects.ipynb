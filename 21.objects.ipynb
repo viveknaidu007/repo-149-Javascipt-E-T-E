{
 "cells": [
  {
   "cell_type": "code",
   "execution_count": null,
   "metadata": {},
   "outputs": [],
   "source": []
  },
  {
   "cell_type": "markdown",
   "metadata": {},
   "source": [
    "![p](0.images\\img25.png)"
   ]
  },
  {
   "cell_type": "code",
   "execution_count": null,
   "metadata": {
    "vscode": {
     "languageId": "javascript"
    }
   },
   "outputs": [],
   "source": [
    "// array: \n",
    "[\"Apple\", \"Mango\", \"Banana\", true, 55]\n",
    "\n",
    "const samplearray = [\"apple\", \"mango\", \"banana\", true, 55]\n",
    "\n",
    "document.write(samplearray)\n",
    "\n",
    "\n",
    "\n",
    "//object:\n",
    "const capital = {\n",
    "    India: \"New Delhi\",\n",
    "    telangana: \"hyderabad\",\n",
    "    maharastra: \"mumbai\",\n",
    "    location: function () {\n",
    "        return \"i live in\" + this.telangana\n",
    "    }\n",
    "}\n",
    "\n",
    "document.write(capital.India)\n",
    "\n",
    "\n",
    "ex2:\n",
    "const capital = {\n",
    "    India: \"New Delhi\",\n",
    "    telangana: \"hyderabad\",\n",
    "    maharastra: \"mumbai\",\n",
    "    location: function () {\n",
    "        return \"i live in\" + this.telangana\n",
    "    }\n",
    "}\n",
    "\n",
    "capital.maharastra = \"bombay\"\n",
    "\n",
    "document.write(capital.maharastra)\n",
    "\n",
    "\n",
    "\n",
    "ex3:\n",
    "const fruits = new Object()\n",
    "\n",
    "fruits.apple = \"red\"\n",
    "fruits.mango = \"yellow\"\n",
    "\n",
    "document.write(fruits.apple)\n"
   ]
  }
 ],
 "metadata": {
  "language_info": {
   "name": "python"
  }
 },
 "nbformat": 4,
 "nbformat_minor": 2
}
