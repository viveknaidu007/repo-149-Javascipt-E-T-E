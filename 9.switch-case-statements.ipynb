{
 "cells": [
  {
   "cell_type": "code",
   "execution_count": null,
   "metadata": {},
   "outputs": [],
   "source": []
  },
  {
   "cell_type": "markdown",
   "metadata": {},
   "source": [
    "![code](0.images\\img8.png)"
   ]
  },
  {
   "cell_type": "code",
   "execution_count": null,
   "metadata": {
    "vscode": {
     "languageId": "javascript"
    }
   },
   "outputs": [],
   "source": [
    "switch (true) {\n",
    "    case 10 > 20:\n",
    "        myAnswer = \"red color\"\n",
    "        break;\n",
    "    case 20 > 30:\n",
    "        myAnswer = \"green color\"\n",
    "        break;\n",
    "    case 50 > 20:\n",
    "        myAnswer = \"black color\"\n",
    "        break;\n",
    "    case 100 == 200:\n",
    "        myAnswer = \"orange color\"\n",
    "        break;\n",
    "    default:\n",
    "        myAnswer = \"None of the above\"\n",
    "        break\n",
    "}\n",
    "\n",
    "document.write(myAnswer)"
   ]
  }
 ],
 "metadata": {
  "language_info": {
   "name": "python"
  }
 },
 "nbformat": 4,
 "nbformat_minor": 2
}
