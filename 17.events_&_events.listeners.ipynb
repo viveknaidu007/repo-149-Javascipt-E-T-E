{
 "cells": [
  {
   "cell_type": "code",
   "execution_count": null,
   "metadata": {
    "vscode": {
     "languageId": "javascript"
    }
   },
   "outputs": [],
   "source": []
  },
  {
   "cell_type": "markdown",
   "metadata": {},
   "source": [
    "![p](0.images\\img17.png)"
   ]
  },
  {
   "cell_type": "code",
   "execution_count": null,
   "metadata": {
    "vscode": {
     "languageId": "javascript"
    }
   },
   "outputs": [],
   "source": [
    "// if we want to use them , then we have to apply them in elements \n",
    "\n",
    "<div class=\"dark-theme\" onclick=darkTheme() ondblclick=\"lightTheme()\""
   ]
  },
  {
   "cell_type": "code",
   "execution_count": null,
   "metadata": {
    "vscode": {
     "languageId": "javascript"
    }
   },
   "outputs": [],
   "source": [
    "const darkTheme = function() {\n",
    "    document.querySelector(\"body\").style.backgroundColor = \"black\"\n",
    "    document.querySelector(\".dark-theme\").textContent = \"Light Theme\"\n",
    "    document.querySelector(\"header\").style.backgroundColor = \"#2E282A\"\n",
    "    document.querySelector(\".sidenav\").style.backgroundColor = \"#808A9F\"\n",
    "}\n",
    "\n",
    "const lightTheme = function() {\n",
    "    document.querySelector(\"body\").style.backgroundColor = \"white\"\n",
    "    document.querySelector(\".dark-theme\").textContent = \"Dark Theme\"\n",
    "    document.querySelector(\"header\").style.backgroundColor = \"#F86624\"\n",
    "    document.querySelector(\".sidenav\").style.backgroundColor = \"#1768AC\"\n",
    "\n",
    "}\n",
    "\n",
    "function eleHover(element) {\n",
    "    element.style.backgroundColor = \"yellow\";\n",
    "}\n",
    "\n",
    "function eleOut(item) {\n",
    "    item.style.backgroundColor = \"#DEE7E7\"\n",
    "}\n",
    "\n",
    "const changeCompany = function() {\n",
    "    document.querySelector(\"#company\").textContent = \"Sales Force\";\n",
    "};\n",
    "\n",
    "const normal = function() {\n",
    "    document.querySelector(\"#company\").textContent = \"Company\"\n",
    "}\n",
    "\n",
    "const keyPressed = function() {\n",
    "    document.querySelector(\"body\").style.backgroundColor = \"white\"\n",
    "}\n",
    "\n",
    "const keyDown = function() {\n",
    "    document.querySelector(\"body\").style.backgroundColor = \"red\"\n",
    "}"
   ]
  },
  {
   "cell_type": "markdown",
   "metadata": {},
   "source": [
    "# Event listener"
   ]
  },
  {
   "cell_type": "code",
   "execution_count": null,
   "metadata": {
    "vscode": {
     "languageId": "javascript"
    }
   },
   "outputs": [],
   "source": [
    "#in two ways we can use Event listenners"
   ]
  },
  {
   "cell_type": "markdown",
   "metadata": {},
   "source": [
    "![p](0.images\\img18.png)"
   ]
  },
  {
   "cell_type": "markdown",
   "metadata": {},
   "source": [
    "![p](0.images\\img19.png)"
   ]
  },
  {
   "cell_type": "code",
   "execution_count": null,
   "metadata": {
    "vscode": {
     "languageId": "html"
    }
   },
   "outputs": [],
   "source": [
    "// add this in ur .html : \n",
    "\n",
    "<div class=\"dark-theme\" onclick=darkTheme() ondblclick=\"lightTheme()\">\n",
    "Dark Theme\n",
    "</div>\n",
    "\n"
   ]
  },
  {
   "cell_type": "code",
   "execution_count": null,
   "metadata": {
    "vscode": {
     "languageId": "javascript"
    }
   },
   "outputs": [],
   "source": [
    "// update in th e.Js\n",
    "\n",
    "\n",
    "const loginButton = document.getElementById(\"loginBtn\")\n",
    "const loginModal = document.getElementById(\"loginSection\")\n",
    "const sideNavBar = document.querySelector(\".sidenav\")\n",
    "const mainSection = document.querySelectorAll(\".main .section\")\n",
    "\n",
    "\n",
    "loginButton.onclick = showLogin\n",
    "\n",
    "function showLogin() {\n",
    "    sideNavBar.style.display = \"none\";\n",
    "    mainSection.forEach(function(item) {\n",
    "        item.style.display = \"none\"\n",
    "    })\n",
    "    loginModal.style.display = \"block\"\n",
    "}\n",
    "\n",
    "document.getElementById(\"closeBtn\").addEventListener(\"click\", hidelog)\n",
    "\n",
    "function hideLogin() {\n",
    "    sideNavBar.style.display = \"block\";\n",
    "    mainSection.forEach(function(item) {\n",
    "        item.style.display = \"block\"\n",
    "    })\n",
    "\n",
    "    loginModal.style.display = \"none\"\n",
    "}"
   ]
  },
  {
   "cell_type": "code",
   "execution_count": null,
   "metadata": {
    "vscode": {
     "languageId": "javascript"
    }
   },
   "outputs": [],
   "source": [
    "// add and remove EventListeners"
   ]
  },
  {
   "cell_type": "code",
   "execution_count": null,
   "metadata": {
    "vscode": {
     "languageId": "javascript"
    }
   },
   "outputs": [],
   "source": [
    "// add Event Listener :\n",
    "\n",
    ".JS :\n",
    "\n",
    "document.getElementById(\"loginSubmit\").addEventListener(\"mouseover\", function() {\n",
    "    this.style.background = \"green\"\n",
    "})\n",
    "\n",
    "document.getElementById(\"loginSubmit\").addEventListener(\"mouseout\", function() {\n",
    "    this.style.background = \"normal_colour\"\n",
    "})\n",
    "\n",
    "\n",
    "\n"
   ]
  },
  {
   "cell_type": "code",
   "execution_count": null,
   "metadata": {
    "vscode": {
     "languageId": "javascript"
    }
   },
   "outputs": [],
   "source": [
    "// remove Event listener :\n",
    "\n",
    "//.html : update this\n",
    "\n",
    "<button id=\"add-border\">Add Border</button>\n",
    "\n",
    "\n",
    "// .JS :\n",
    "\n",
    "const NavBorder = document.getElementById(\"add-border\")\n",
    "NavBorder.addEventListener(\"click\", addingBorder)\n",
    "\n",
    "function addingBorder() {\n",
    "    document.querySelector(\"header\").style.border = \"5px solid black\"\n",
    "}\n",
    "\n",
    "if (10>20) {\n",
    "    NavBorder.removeEventListener(\"click\", addingBorder)\n",
    "}\n",
    "\n",
    "\n",
    "\n",
    "\n"
   ]
  },
  {
   "cell_type": "code",
   "execution_count": null,
   "metadata": {
    "vscode": {
     "languageId": "javascript"
    }
   },
   "outputs": [],
   "source": [
    "// Form Events"
   ]
  },
  {
   "cell_type": "code",
   "execution_count": null,
   "metadata": {
    "vscode": {
     "languageId": "javascript"
    }
   },
   "outputs": [],
   "source": [
    "// .html\n",
    "\n",
    "<form id=\"myForm\">\n",
    "<label for=\"nameInput\"> Name:</label>\n",
    "<input type=\"text\" id=\"nameInput\" placeholder=\"enter ur name\"><br>\n",
    "\n",
    "<button type=\"submit\"> Submit </button>\n",
    "</form>\n",
    "<div class=\"user-details\">\n",
    "<h3>User details</h3>\n",
    "<h2 id=\"name\" style=\"color: blue;\"></h2>\n",
    "</div>\n"
   ]
  },
  {
   "cell_type": "code",
   "execution_count": null,
   "metadata": {
    "vscode": {
     "languageId": "javascript"
    }
   },
   "outputs": [],
   "source": [
    "// full index.html : \n",
    "\n",
    "\n",
    "<!DOCTYPE html>\n",
    "<html lang=\"en\">\n",
    "\n",
    "<head>\n",
    "    <meta charset=\"UTF-8\">\n",
    "    <meta http-equiv=\"X-UA-Compatible\" content=\"IE=edge\">\n",
    "    <meta name=\"viewport\" content=\"width=device-width, initial-scale=1.0\">\n",
    "    <link rel=\"stylesheet\" href=\"styles.css\">\n",
    "    <title>Javascript Series</title>\n",
    "</head>\n",
    "\n",
    "<body>\n",
    "    <header>\n",
    "        <nav>\n",
    "            <div id=\"company\" class=\"nav-left\" onmouseenter=\"changeCompany()\" onmouseout=\"normal()\">\n",
    "                Company\n",
    "            </div>\n",
    "            <div class=\"nav-right\">\n",
    "                <ul>\n",
    "                    <li class=\"revenue\">Revenue</li>\n",
    "                    <li class=\"sales\">Sales</li>\n",
    "                    <li class=\"customers\">Customers</li>\n",
    "                    <li class=\"reports\">Reports</li>\n",
    "                    <li class=\"settings\">Settings</li>\n",
    "                </ul>\n",
    "            </div>\n",
    "            <div class=\"dark-theme\" onclick=darkTheme() ondblclick=\"lightTheme()\">\n",
    "                Dark Theme\n",
    "            </div>\n",
    "            <div id=\"loginBtn\">\n",
    "                Login\n",
    "            </div>\n",
    "            <button id=\"add-border\">Add Border</button>\n",
    "\n",
    "            <button id=\"close\">Close Sidebar</button>\n",
    "\n",
    "        </nav>\n",
    "    </header>\n",
    "    <div class=\"login-modal\" id=\"loginSection\">\n",
    "        <h3 class=\"loginTitle\">Login</h3>\n",
    "        <div id=\"closeBtn\">close</div>\n",
    "        <input type=\"text\" placeholder=\"Enter your name\"><br>\n",
    "        <input type=\"password\" placeholder=\"Enter your password\"><br>\n",
    "        <button id=\"loginSubmit\">Submit</button>\n",
    "    </div>\n",
    "    <div class=\"sidenav\">\n",
    "        <ul>\n",
    "            <li>Dashboard</li>\n",
    "            <li class=\"revenue\">Revenue</li>\n",
    "            <li class=\"sales\">Sales</li>\n",
    "            <li class=\"customers\">Customers</li>\n",
    "            <li class=\"reports\">Reports</li>\n",
    "            <li class=\"meetings\">Meetings</li>\n",
    "            <li class=\"events\">Events</li>\n",
    "            <li class=\"settings\">Settings</li>\n",
    "        </ul>\n",
    "    </div>\n",
    "\n",
    "    <div class=\"main\">\n",
    "        <!-- <div class=\"section revenue\" onmouseover=\"eleHover(this)\" onmouseout=\"eleOut(this)\">\n",
    "            <h2>Revenue</h2>\n",
    "            <p>Lorem ipsum dolor sit amet, consectetur adipiscing elit.</p>\n",
    "        </div>\n",
    "        <div class=\"section sales\" onmouseover=\"eleHover(this)\" onmouseout=\" eleOut(this)\">\n",
    "            <h2>Sales</h2>\n",
    "            <p>Ut euismod efficitur turpis, non tincidunt nibh volutpat sed.</p>\n",
    "        </div>\n",
    "        <div class=\"section\" onmouseover=\"eleHover(this)\" onmouseout=\" eleOut(this)\">\n",
    "            <h2 class=\"customers\">Customers</h2>\n",
    "            <p>Suspendisse semper ipsum eget neque malesuada auctor.</p>\n",
    "        </div>\n",
    "        <div class=\"section reports\" onmouseover=\"eleHover(this)\" onmouseout=\" eleOut(this)\">\n",
    "            <h2>Reports</h2>\n",
    "            <p>Morbi id feugiat mauris, at tempus mi.</p>\n",
    "        </div>\n",
    "        <div class=\"section meetings\" onmouseover=\"eleHover(this)\" onmouseout=\" eleOut(this)\">\n",
    "            <h2>Meetings</h2>\n",
    "            <p>Nulla facilisi. Vestibulum vitae eros nec lectus posuere ultricies.</p>\n",
    "        </div>\n",
    "        <div class=\"section events\" onmouseover=\"eleHover(this)\" onmouseout=\" eleOut(this)\">\n",
    "            <h2>Events</h2>\n",
    "            <p>Quisque eu massa a mauris ultricies dapibus non vitae nulla.</p>\n",
    "        </div> -->\n",
    "\n",
    "        <form id=\"myForm\">\n",
    "            <label for=\"nameInput\"> Name:</label>\n",
    "            <input type=\"text\" id=\"nameInput\" placeholder=\"enter ur name\"><br>\n",
    "\n",
    "            <button type=\"submit\"> Submit </button>\n",
    "        </form>\n",
    "        <div class=\"user-details\">\n",
    "            <h3>User details</h3>\n",
    "            <h2 id=\"name\" style=\"color: blue;\"></h2>\n",
    "        </div>\n",
    "\n",
    "    </div>\n",
    "    <script src=\"project.js\"></script>\n",
    "    \n",
    "        \n",
    "</body>\n",
    "\n",
    "</html>"
   ]
  },
  {
   "cell_type": "code",
   "execution_count": null,
   "metadata": {
    "vscode": {
     "languageId": "javascript"
    }
   },
   "outputs": [],
   "source": [
    "// .Js:\n",
    "\n",
    "// preventDefault() means while we submit the forms , it helps to no-refereshing the page automically\n",
    "\n",
    "\n",
    "const mainform = document.getElementById(\"myForm\")\n",
    "const userName = document.getElementById(\"nameInput\")\n",
    "const inputName = document.getElementById(\"name\")\n",
    "\n",
    "\n",
    "mainform.addEventListener(\"submit\", function(e) {\n",
    "    e.preventDefault()\n",
    "\n",
    "    const myUserName = userName.value\n",
    "\n",
    "    inputName.textContent = userName.value\n",
    "    \n",
    "})\n"
   ]
  },
  {
   "cell_type": "code",
   "execution_count": null,
   "metadata": {
    "vscode": {
     "languageId": "javascript"
    }
   },
   "outputs": [],
   "source": [
    "// focus and blur\n",
    "\n"
   ]
  },
  {
   "cell_type": "code",
   "execution_count": null,
   "metadata": {
    "vscode": {
     "languageId": "javascript"
    }
   },
   "outputs": [],
   "source": [
    "// .JS :\n",
    "\n",
    "const userInput = document.getElementById(\"nameInput\")\n",
    "\n",
    "userInput.addEventListener(\"focus\", function(event) {\n",
    "    console.log(event.target)\n",
    "})\n",
    "\n",
    "\n",
    "ex2:\n",
    "const userInput = document.getElementById(\"nameInput\")\n",
    "\n",
    "userInput.addEventListener(\"focus\", function(event) {\n",
    "    event.target.style.background = \"pink\"\n",
    "})\n",
    "\n",
    "\n",
    "ex3:\n",
    "const userInput = document.getElementById(\"nameInput\")\n",
    "\n",
    "userInput.addEventListener(\"focus\", function(event) {\n",
    "    event.target.style.background = \"pink\"\n",
    "})\n",
    "\n",
    "\n",
    "userInput.addEventListener(\"blur\", function(event) {\n",
    "    event.target.style.background = \"\"\n",
    "})\n",
    "\n",
    "\n",
    "\n"
   ]
  },
  {
   "cell_type": "code",
   "execution_count": null,
   "metadata": {
    "vscode": {
     "languageId": "javascript"
    }
   },
   "outputs": [],
   "source": [
    "// change method"
   ]
  },
  {
   "cell_type": "code",
   "execution_count": null,
   "metadata": {
    "vscode": {
     "languageId": "javascript"
    }
   },
   "outputs": [],
   "source": [
    "// .html:\n",
    "<select id=\"myColors\">\n",
    "<option value=\"red\">Red</option>\n",
    "<option value=\"Green\">Green</option>\n",
    "<option value=\"Blue\">Blue</option>\n",
    "</select>\n",
    "\n",
    "<div id=\"box\"></div>\n",
    "\n",
    "\n",
    "// .css:\n",
    "#myColors {\n",
    "    width: 200px;\n",
    "    font-size: large;\n",
    "    margin-left: 300px;\n",
    "}\n",
    "\n",
    "#box {\n",
    "    width: 200px;\n",
    "    height: 200px;\n",
    "    border: 1px solid gray;\n",
    "    margin-left: 500px;\n",
    "}\n",
    "\n",
    "\n",
    "// .JS:\n",
    "const mynewcolors = document.getElementById(\"myColors\")\n",
    "const mynewbox = document.getElementById(\"box\")\n",
    "\n",
    "mynewcolors.addEventListener(\"change\", function() {\n",
    "    mynewbox.style.background = mynewcolors.value\n",
    "})\n"
   ]
  },
  {
   "cell_type": "code",
   "execution_count": null,
   "metadata": {
    "vscode": {
     "languageId": "javascript"
    }
   },
   "outputs": [],
   "source": [
    "// .html:\n",
    "<div class=\"user-details\">\n",
    "<h3>User details</h3>\n",
    "<h2 id=\"name\" style=\"color: blue;\"></h2>\n",
    "</div>\n",
    "\n",
    "// .Js:\n",
    "const mainForm = document.getElementById(\"myForm\")\n",
    "const userName = document.getElementById(\"nameInput\")\n",
    "const inputName = document.getElementById(\"name\")\n",
    "\n",
    "\n",
    "mainForm.addEventListener(\"input\", function(e) {\n",
    "    e.preventDefault()\n",
    "\n",
    "    const myUserName = userName.value\n",
    "    inputName.textContent = myUserName\n",
    "})\n",
    "\n",
    "\n",
    "\n",
    "const mynewcolors = document.getElementById(\"myColors\")\n",
    "const mynewbox = document.getElementById(\"box\")\n",
    "\n",
    "mynewcolors.addEventListener(\"change\", function() {\n",
    "    mynewbox.style.background = mynewcolors.value\n",
    "})\n"
   ]
  },
  {
   "cell_type": "code",
   "execution_count": null,
   "metadata": {
    "vscode": {
     "languageId": "javascript"
    }
   },
   "outputs": [],
   "source": [
    "// input method : it will only applicable to input field "
   ]
  },
  {
   "cell_type": "code",
   "execution_count": null,
   "metadata": {
    "vscode": {
     "languageId": "javascript"
    }
   },
   "outputs": [],
   "source": []
  }
 ],
 "metadata": {
  "language_info": {
   "name": "python"
  }
 },
 "nbformat": 4,
 "nbformat_minor": 2
}
