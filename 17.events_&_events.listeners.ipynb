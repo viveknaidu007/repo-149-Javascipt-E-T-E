{
 "cells": [
  {
   "cell_type": "code",
   "execution_count": null,
   "metadata": {
    "vscode": {
     "languageId": "javascript"
    }
   },
   "outputs": [],
   "source": []
  },
  {
   "cell_type": "markdown",
   "metadata": {},
   "source": [
    "![p](0.images\\img17.png)"
   ]
  },
  {
   "cell_type": "code",
   "execution_count": null,
   "metadata": {
    "vscode": {
     "languageId": "javascript"
    }
   },
   "outputs": [],
   "source": [
    "// if we want to use them , then we have to apply them in elements \n",
    "\n",
    "<div class=\"dark-theme\" onclick=darkTheme() ondblclick=\"lightTheme()\""
   ]
  },
  {
   "cell_type": "code",
   "execution_count": null,
   "metadata": {
    "vscode": {
     "languageId": "javascript"
    }
   },
   "outputs": [],
   "source": [
    "const darkTheme = function() {\n",
    "    document.querySelector(\"body\").style.backgroundColor = \"black\"\n",
    "    document.querySelector(\".dark-theme\").textContent = \"Light Theme\"\n",
    "    document.querySelector(\"header\").style.backgroundColor = \"#2E282A\"\n",
    "    document.querySelector(\".sidenav\").style.backgroundColor = \"#808A9F\"\n",
    "}\n",
    "\n",
    "const lightTheme = function() {\n",
    "    document.querySelector(\"body\").style.backgroundColor = \"white\"\n",
    "    document.querySelector(\".dark-theme\").textContent = \"Dark Theme\"\n",
    "    document.querySelector(\"header\").style.backgroundColor = \"#F86624\"\n",
    "    document.querySelector(\".sidenav\").style.backgroundColor = \"#1768AC\"\n",
    "\n",
    "}\n",
    "\n",
    "function eleHover(element) {\n",
    "    element.style.backgroundColor = \"yellow\";\n",
    "}\n",
    "\n",
    "function eleOut(item) {\n",
    "    item.style.backgroundColor = \"#DEE7E7\"\n",
    "}\n",
    "\n",
    "const changeCompany = function() {\n",
    "    document.querySelector(\"#company\").textContent = \"Sales Force\";\n",
    "};\n",
    "\n",
    "const normal = function() {\n",
    "    document.querySelector(\"#company\").textContent = \"Company\"\n",
    "}\n",
    "\n",
    "const keyPressed = function() {\n",
    "    document.querySelector(\"body\").style.backgroundColor = \"white\"\n",
    "}\n",
    "\n",
    "const keyDown = function() {\n",
    "    document.querySelector(\"body\").style.backgroundColor = \"red\"\n",
    "}"
   ]
  },
  {
   "cell_type": "markdown",
   "metadata": {},
   "source": [
    "![p](0.images\\img18.png)"
   ]
  },
  {
   "cell_type": "markdown",
   "metadata": {},
   "source": [
    "![p](0.images\\img19.png)"
   ]
  }
 ],
 "metadata": {
  "language_info": {
   "name": "python"
  }
 },
 "nbformat": 4,
 "nbformat_minor": 2
}
