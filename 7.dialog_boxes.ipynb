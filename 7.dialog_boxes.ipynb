{
 "cells": [
  {
   "cell_type": "code",
   "execution_count": null,
   "metadata": {},
   "outputs": [],
   "source": [
    "# we have 3 types of dialoag boxes \n",
    "\n",
    "1. alert\n",
    "2. prompt\n",
    "3. confirmm\n",
    "\n",
    "\n",
    "alert(\"this is an image\")\n",
    "prompt(\"this is an hero\")\n",
    "confirm(\"r u sure?\")"
   ]
  },
  {
   "cell_type": "code",
   "execution_count": null,
   "metadata": {
    "vscode": {
     "languageId": "javascript"
    }
   },
   "outputs": [],
   "source": [
    "if (10 == 20) {\n",
    "    alert(\"10 iss less than 20\")\n",
    "}"
   ]
  },
  {
   "cell_type": "code",
   "execution_count": null,
   "metadata": {
    "vscode": {
     "languageId": "javascript"
    }
   },
   "outputs": [],
   "source": [
    "var woman = confirm(\"are u a woman\")\n",
    "\n",
    "if(woman){\n",
    "    let name = prompt(\"please enter ur name\");\n",
    "    document.write(\"hello\" + name + \"welcome 2 my page\")\n",
    "}\n",
    "else{\n",
    "    let name = prompt(\"enter ur name\")\n",
    "    document.write(\"hello mr\" + name + \"welcome 2 my page\")\n",
    "}"
   ]
  }
 ],
 "metadata": {
  "language_info": {
   "name": "python"
  }
 },
 "nbformat": 4,
 "nbformat_minor": 2
}
