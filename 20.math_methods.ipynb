{
 "cells": [
  {
   "cell_type": "code",
   "execution_count": null,
   "metadata": {},
   "outputs": [],
   "source": []
  },
  {
   "cell_type": "markdown",
   "metadata": {},
   "source": [
    "![p](0.images\\img24.png)"
   ]
  },
  {
   "cell_type": "code",
   "execution_count": null,
   "metadata": {
    "vscode": {
     "languageId": "javascript"
    }
   },
   "outputs": [],
   "source": [
    "//\n",
    "\n",
    "const calculation = Math.ceil(10.53)\n",
    "\n",
    "document.write(\"<h1> calculation : \", calculation)\n",
    "\n",
    "\n",
    "//\n",
    "const calculation = Math.floor(10.53)\n",
    "\n",
    "document.write(\"<h1> calculation : \", calculation, \"<br>\")  \n",
    "\n",
    "//\n",
    "const calculation = Math.round(10.53)\n",
    "\n",
    "document.write(\"<h1> calculation : \", calculation, \"<br>\")  \n",
    "\n",
    "\n",
    "//\n",
    "const calculation = Math.max(10,50,400,600,1000)\n",
    "\n",
    "document.write(\"<h1> calculation : \", calculation, \"<br>\")  \n",
    "\n",
    "\n",
    "//\n",
    "const calculation = Math.min(10,50,400,600,1000)\n",
    "\n",
    "document.write(\"<h1> calculation : \", calculation, \"<br>\")  \n",
    "\n",
    "//\n",
    "const calculation = Math.random() * 10\n",
    "\n",
    "document.write(\"<h1> calculation : \", calculation, \"<br>\")  \n",
    "\n",
    "\n",
    "//\n",
    "const calculation = Math.floor(Math.random() * 10)\n",
    "\n",
    "document.write(\"<h1> calculation : \", calculation, \"<br>\")  \n",
    "\n"
   ]
  }
 ],
 "metadata": {
  "language_info": {
   "name": "python"
  }
 },
 "nbformat": 4,
 "nbformat_minor": 2
}
