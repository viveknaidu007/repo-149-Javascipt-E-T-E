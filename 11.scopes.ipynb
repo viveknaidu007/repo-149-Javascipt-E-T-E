{
 "cells": [
  {
   "cell_type": "code",
   "execution_count": null,
   "metadata": {},
   "outputs": [],
   "source": [
    "#Scopes:\n",
    "\n",
    "1. Global Scope\n",
    "2. Function Scope\n",
    "3. Block Scope"
   ]
  },
  {
   "cell_type": "code",
   "execution_count": null,
   "metadata": {},
   "outputs": [],
   "source": [
    "# scopes are depends on the variables var ,let ,const"
   ]
  },
  {
   "cell_type": "code",
   "execution_count": null,
   "metadata": {
    "vscode": {
     "languageId": "javascript"
    }
   },
   "outputs": [],
   "source": [
    "var apple = \"red\";\n",
    "let orange = \"yellow\"\n",
    "const banana = \"green\"\n",
    "\n",
    "function fruit() {\n",
    "    document.write(apple)\n",
    "    document.write(apple)\n",
    "    document.write(apple)\n",
    "}\n",
    "\n",
    "fruit()"
   ]
  },
  {
   "cell_type": "code",
   "execution_count": null,
   "metadata": {
    "vscode": {
     "languageId": "javascript"
    }
   },
   "outputs": [],
   "source": [
    "var apple = \"red\";\n",
    "let orange = \"yellow\"\n",
    "const banana = \"green\"\n",
    "\n",
    "#below is wrong\n",
    "function fruit() {\n",
    "    var x =100;\n",
    "}\n",
    "fruit()\n",
    "\n",
    "document.write(x)\n",
    "\n",
    "\n",
    "\n",
    "#below is correct\n",
    "#function fruit() {\n",
    "    var x =100;\n",
    "    document.write(x)\n",
    "}\n",
    "fruit()\n",
    "\n"
   ]
  },
  {
   "cell_type": "code",
   "execution_count": null,
   "metadata": {
    "vscode": {
     "languageId": "javascript"
    }
   },
   "outputs": [],
   "source": [
    "Block Scope\n",
    "\n",
    "function sports() {\n",
    "    if (10<20){\n",
    "        let cricket = \"vivek\"\n",
    "        document.write(cricket)\n",
    "    }\n",
    "\n",
    "    document.write(cricket)\n",
    "}\n",
    "\n",
    "sports()\n",
    "\n",
    "\n",
    "#here i defined a variable \"cricket\"inside the \"if\" block , and the variables wont work in outside of block "
   ]
  }
 ],
 "metadata": {
  "language_info": {
   "name": "python"
  }
 },
 "nbformat": 4,
 "nbformat_minor": 2
}
