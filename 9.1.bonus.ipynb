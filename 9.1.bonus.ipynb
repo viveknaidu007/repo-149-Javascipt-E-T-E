{
 "cells": [
  {
   "cell_type": "code",
   "execution_count": null,
   "metadata": {},
   "outputs": [],
   "source": [
    "#topics covered :\n",
    "\n",
    "* Variables\n",
    "* Data types\n",
    "* Operators\n",
    "* Conditions\n",
    "* Dialog Box\n",
    "* Type Conversion"
   ]
  },
  {
   "cell_type": "code",
   "execution_count": null,
   "metadata": {
    "vscode": {
     "languageId": "javascript"
    }
   },
   "outputs": [],
   "source": [
    "let Name = prompt(\"please enter ur name\")\n",
    "let Marks = prompt(\"enter ur marks\")\n",
    "\n",
    "switch (true) {\n",
    "    case Marks > 90 && Marks <= 100:\n",
    "        result = \"great u r the topper\"\n",
    "        break;\n",
    "    \n",
    "    case Marks > 65 && Marks <= 90:\n",
    "        result = \"congratulations u got the first class\"\n",
    "        break;\n",
    "    \n",
    "    case Marks >= 40 && Marks <= 65:\n",
    "        result = \"you got second class\"\n",
    "        break;\n",
    "\n",
    "    case Marks >= 30 && Marks <= 40:\n",
    "        result = \"u got third class\"\n",
    "        break;\n",
    "    \n",
    "    case Marks < 30:\n",
    "        result = \"sorry u r failed , better Next Time\"\n",
    "        break;\n",
    "    \n",
    "    default:\n",
    "        result = \"pls enter ur marks\"\n",
    "        break;\n",
    "    \n",
    "}\n",
    "\n",
    "document.write(result)\n",
    "\n",
    "document.write(\"hello\" + Name + \"your\" + result)"
   ]
  },
  {
   "cell_type": "code",
   "execution_count": null,
   "metadata": {
    "vscode": {
     "languageId": "javascript"
    }
   },
   "outputs": [],
   "source": []
  }
 ],
 "metadata": {
  "language_info": {
   "name": "python"
  }
 },
 "nbformat": 4,
 "nbformat_minor": 2
}
