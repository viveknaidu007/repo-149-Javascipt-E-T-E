{
 "cells": [
  {
   "cell_type": "code",
   "execution_count": null,
   "metadata": {},
   "outputs": [],
   "source": []
  },
  {
   "cell_type": "markdown",
   "metadata": {},
   "source": [
    "![p](0.images\\img15.png)"
   ]
  },
  {
   "cell_type": "code",
   "execution_count": null,
   "metadata": {
    "vscode": {
     "languageId": "javascript"
    }
   },
   "outputs": [],
   "source": [
    "// in DOM manipulation we only 2 things \"get\" gathering the value of the element and \"set\" : setting new value to the element"
   ]
  },
  {
   "cell_type": "markdown",
   "metadata": {},
   "source": [
    "# getElementByid()"
   ]
  },
  {
   "cell_type": "code",
   "execution_count": null,
   "metadata": {
    "vscode": {
     "languageId": "javascript"
    }
   },
   "outputs": [],
   "source": [
    "// innerTEXT\n",
    "\n",
    "const a = document.getElementById(\"company\")\n",
    "\n",
    "a.innerText = \"sales force\"\n",
    "\n",
    "// "
   ]
  },
  {
   "cell_type": "code",
   "execution_count": null,
   "metadata": {
    "vscode": {
     "languageId": "javascript"
    }
   },
   "outputs": [],
   "source": [
    "// innerHTML :\n",
    "\n",
    "const a = document.getElementById(\"company\")\n",
    "\n",
    "a.innerHTML = \"<h1> New Title</h1>\";\n",
    "console.log(a)"
   ]
  },
  {
   "cell_type": "code",
   "execution_count": null,
   "metadata": {
    "vscode": {
     "languageId": "javascript"
    }
   },
   "outputs": [],
   "source": [
    "// textContent :\n",
    "\n",
    "const a = document.getElementById(\"company\")\n",
    "\n",
    "a.textContent = \"new sales Company\";\n",
    "console.log(a)"
   ]
  },
  {
   "cell_type": "markdown",
   "metadata": {},
   "source": []
  },
  {
   "cell_type": "code",
   "execution_count": null,
   "metadata": {
    "vscode": {
     "languageId": "javascript"
    }
   },
   "outputs": [],
   "source": [
    "// \n",
    "\n",
    "var myRevenue = document.getElementsByClassName(\"revenue\")\n",
    "myRevenue.textContent = \"growth\"\n",
    "console.log(myRevenue)"
   ]
  },
  {
   "cell_type": "code",
   "execution_count": null,
   "metadata": {
    "vscode": {
     "languageId": "javascript"
    }
   },
   "outputs": [],
   "source": [
    "// \n",
    "\n",
    "const mybudject = document.getElementsByClassName(\"revenue\")[1];\n",
    "mybudject.innerText = \"neew building\""
   ]
  },
  {
   "cell_type": "code",
   "execution_count": null,
   "metadata": {
    "vscode": {
     "languageId": "javascript"
    }
   },
   "outputs": [],
   "source": [
    "//\n",
    "\n",
    "const tagtest = document.getElementsByTagName(\"p\")\n",
    "console.log(tagtest)\n",
    "\n",
    "\n",
    "ex2:\n",
    "const tagtest = document.getElementsByTagName(\"p\")[1]\n",
    "tagtest.textcontent = \"the text of paragraph is chnaged\"\n",
    "console.log(tagtest)\n",
    "\n",
    "ex3:\n",
    "const tagtest = document.getElementsByTagName(\"p\")\n",
    "\n",
    "for (let i=0; i<tagtest.length; i++){\n",
    "    tagtest[i].textcontent = \"changed to new values\"\n",
    "}\n",
    "\n",
    "\n"
   ]
  },
  {
   "cell_type": "markdown",
   "metadata": {},
   "source": [
    "# querySelector() and querySelectorAl()"
   ]
  },
  {
   "cell_type": "code",
   "execution_count": null,
   "metadata": {
    "vscode": {
     "languageId": "javascript"
    }
   },
   "outputs": [],
   "source": [
    "document.getElementById(\"company\")\n",
    "document.getElementsByClassName(\"nav-left\")\n",
    "document.getElementsByTagName(\"nav\")\n",
    "document.querySelector(\"#company\")\n",
    "\n",
    "\n",
    "const newcompany = document.querySelector(\".\")\n",
    "\n",
    "ex 1:\n",
    "const newcompany = document.querySelector(\".nav-left\")\n",
    "newcompany.textContent = \"flipkart\"\n",
    "\n",
    "ex:2 :\n",
    "const newcompany = document.querySelector(\"nav\")\n",
    "newcompany.textContent  = \"jiohere\"\n",
    "\n",
    "ex :3 :\n",
    "const newcompany = document.querySelector(\"div\")\n",
    "newcompany.textContent  = \"jiohere\"\n",
    "\n",
    "ex:4:\n",
    "const newcompany = document.querySelectorAll(\"li\")\n",
    "console.log(newcompany);\n",
    "\n",
    "newcompany.textContent = \"jio mart\"\n",
    "\n",
    "\n",
    "ex : 5 :\n",
    "const newcompany = document.querySelectorAll(\"li\")\n",
    "\n",
    "for (let x=0; x<newcompany.length ; x++){\n",
    "    newcompany[x].textContent = \"employee\"\n",
    "}\n",
    "\n",
    "\n",
    "ex :6 :\n",
    "const newcompany = document.querySelectorAll(\".customers\")\n",
    "\n",
    "for (let x=0; x<newcompany.length ; x++){\n",
    "    newcompany[x].textContent = \"employee\"\n",
    "}\n",
    "\n",
    "\n",
    "ex:7 :\n",
    "const targethidden = document.querySelector(\"p\")\n",
    "\n",
    "console.log(targethidden.innerText)\n",
    "console.log(targethidden.textContent)\n",
    "\n",
    "\n"
   ]
  },
  {
   "cell_type": "markdown",
   "metadata": {},
   "source": [
    "# attributes"
   ]
  },
  {
   "cell_type": "markdown",
   "metadata": {},
   "source": [
    "![p](0.images\\img16.png)"
   ]
  },
  {
   "cell_type": "code",
   "execution_count": null,
   "metadata": {
    "vscode": {
     "languageId": "javascript"
    }
   },
   "outputs": [],
   "source": [
    "//add this in ur .html page :\n",
    "\n",
    "// <header id=\"headerId\" class=\"headerClass\" style=\"color:transport\" href=\"/\">\n",
    "\n",
    "const targetatt = document.querySelector(\"header\")\n",
    "console.log(targetatt);\n",
    "\n",
    "ex2:\n",
    "const targetatt = document.querySelector(\"header\").attributes\n",
    "console.log(targetatt);\n",
    "\n",
    "\n",
    "ex3:\n",
    "const targetatt = document.querySelector(\"header\").attributes.id\n",
    "console.log(targetatt);\n",
    "\n",
    "\n",
    "ex4:\n",
    "const targetatt = document.querySelector(\"header\").attributes.id\n",
    "console.log(targetatt);\n",
    "\n",
    "\n",
    "ex5:\n",
    "const targetatt = document.querySelector(\"header\").attributes.style.value\n",
    "console.log(targetatt);\n",
    "\n",
    "\n",
    "ex5:\n",
    "const targetatt = document.querySelector(\"header\").attributes.href.value\n",
    "console.log(targetatt);\n",
    "\n"
   ]
  },
  {
   "cell_type": "code",
   "execution_count": null,
   "metadata": {
    "vscode": {
     "languageId": "javascript"
    }
   },
   "outputs": [],
   "source": [
    "#setAttribute:"
   ]
  },
  {
   "cell_type": "code",
   "execution_count": null,
   "metadata": {
    "vscode": {
     "languageId": "javascript"
    }
   },
   "outputs": [],
   "source": [
    "//\n",
    "const targetnav = document.querySelector(\"nav\")\n",
    "targetnav.setAttribute(\"style\", \"border: 5px solid black\")\n",
    "\n",
    "\n",
    "//\n",
    "const targetside = document.querySelector(\".sidenav\")\n",
    "targetside.setAttribute(\"style\", \"background-color : gr\")\n",
    "\n",
    "\n",
    "//\n",
    "const targetremove = document.querySelector(\".sidenav\")\n",
    "targetremove.removeAttribute(\"class\")\n"
   ]
  },
  {
   "cell_type": "code",
   "execution_count": null,
   "metadata": {
    "vscode": {
     "languageId": "javascript"
    }
   },
   "outputs": [],
   "source": [
    "#"
   ]
  }
 ],
 "metadata": {
  "language_info": {
   "name": "python"
  }
 },
 "nbformat": 4,
 "nbformat_minor": 2
}
