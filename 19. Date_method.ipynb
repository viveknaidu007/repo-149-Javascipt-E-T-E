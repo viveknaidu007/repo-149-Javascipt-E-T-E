{
 "cells": [
  {
   "cell_type": "code",
   "execution_count": null,
   "metadata": {},
   "outputs": [],
   "source": []
  },
  {
   "cell_type": "markdown",
   "metadata": {},
   "source": [
    "![p](0.images\\img22.png)"
   ]
  },
  {
   "cell_type": "markdown",
   "metadata": {},
   "source": [
    "![p](0.images\\img23.png)"
   ]
  },
  {
   "cell_type": "code",
   "execution_count": null,
   "metadata": {
    "vscode": {
     "languageId": "javascript"
    }
   },
   "outputs": [],
   "source": [
    "//\n",
    "\n",
    "const today = new Date()\n",
    "document.write(today)\n",
    "\n",
    "const today = new Date()\n",
    "document.write(today.getDate())\n",
    "\n",
    "const today = new Date()\n",
    "document.write(today.getMonth())\n",
    "\n",
    "\n",
    "const today = new Date()\n",
    "today.setMonth(10)\n",
    "document.write(today)\n",
    "\n",
    "\n",
    "// like this we can use this inbult methods to get and set the date "
   ]
  }
 ],
 "metadata": {
  "language_info": {
   "name": "python"
  }
 },
 "nbformat": 4,
 "nbformat_minor": 2
}
