{
 "cells": [
  {
   "cell_type": "code",
   "execution_count": null,
   "metadata": {},
   "outputs": [],
   "source": [
    "#Data-Types"
   ]
  },
  {
   "cell_type": "code",
   "execution_count": null,
   "metadata": {},
   "outputs": [],
   "source": [
    "#here we have\n",
    "\n",
    "String\n",
    "Number\n",
    "Boolean\n",
    "Null\n",
    "Undefined\n",
    "Array\n",
    "Object"
   ]
  },
  {
   "cell_type": "markdown",
   "metadata": {},
   "source": [
    "![code](0.images\\img5.png)"
   ]
  },
  {
   "cell_type": "code",
   "execution_count": null,
   "metadata": {},
   "outputs": [],
   "source": [
    "#primitve Datatypes"
   ]
  },
  {
   "cell_type": "code",
   "execution_count": null,
   "metadata": {},
   "outputs": [],
   "source": [
    "#project.js: string datatype\n",
    "\n",
    "var a = \"this is text message\"\n",
    "console.log(a)\n",
    "\n",
    "or\n",
    "\n",
    "documment.write(\"this is text meesage\")"
   ]
  },
  {
   "cell_type": "code",
   "execution_count": null,
   "metadata": {},
   "outputs": [],
   "source": [
    "#project.js: number datatype\n",
    "\n",
    "console.log(10121314)\n",
    "or\n",
    "document.write(1122333)\n"
   ]
  },
  {
   "cell_type": "code",
   "execution_count": null,
   "metadata": {},
   "outputs": [],
   "source": [
    "#project.js: Boolean datatype\n",
    "\n",
    "Boolean = true , false\n",
    "\n",
    "test = 10>20;\n",
    "\n",
    "console.log(test);\n",
    "\n",
    "or \n",
    "\n"
   ]
  },
  {
   "cell_type": "code",
   "execution_count": null,
   "metadata": {},
   "outputs": [],
   "source": [
    "#project.js : Null datatype\n",
    "\n",
    "let sampleView = null;\n",
    "console.log(sampleView)"
   ]
  },
  {
   "cell_type": "code",
   "execution_count": null,
   "metadata": {},
   "outputs": [],
   "source": [
    "#project.js : undefined\n",
    "\n",
    "let apple;\n",
    "console.log(apple);"
   ]
  },
  {
   "cell_type": "code",
   "execution_count": null,
   "metadata": {},
   "outputs": [],
   "source": [
    "document.write(\"this is JAvascript <br>\")\n",
    "\n",
    "document.write(11223344)\n",
    "\n",
    "document.write(\"<h1> this is vivek </h1> <br>\")"
   ]
  },
  {
   "cell_type": "code",
   "execution_count": null,
   "metadata": {},
   "outputs": [],
   "source": [
    "#complex Datatypes"
   ]
  },
  {
   "cell_type": "code",
   "execution_count": null,
   "metadata": {},
   "outputs": [],
   "source": [
    "#project.js : Array\n",
    "\n",
    "let fruits = [\"apple\",\"mango\",55,{name:\"kalyan\"}]\n",
    "console.log(fruits)\n",
    "\n",
    "or\n",
    "\n",
    "document.write(fruits)"
   ]
  },
  {
   "cell_type": "code",
   "execution_count": null,
   "metadata": {},
   "outputs": [],
   "source": [
    "#project.js : Object\n",
    "\n",
    "let fruits = [\"apple\",\"mango\",55,{name:\"kalyan\"}]\n",
    "\n",
    "const games = {\n",
    "    cricket:\"Dhoni\",\n",
    "    football:\"racer\"\n",
    "}\n",
    "\n",
    "console.log(games);\n",
    "\n",
    "document.write(games);"
   ]
  },
  {
   "cell_type": "code",
   "execution_count": null,
   "metadata": {},
   "outputs": [],
   "source": [
    "let fruits = [\"apple\",\"mango\",55,{name:\"kalyan\"}]\n",
    "\n",
    "const games = {\n",
    "    cricket:\"Dhoni\",\n",
    "    football:\"racer\"\n",
    "}\n",
    "\n",
    "console.log(games);\n",
    "\n",
    "console.log(typeof games)\n",
    "\n",
    "document.write(games);"
   ]
  },
  {
   "cell_type": "code",
   "execution_count": null,
   "metadata": {},
   "outputs": [],
   "source": [
    "# if we want to check array or not :\n",
    "\n",
    "let fruits = [\"apple\",\"mango\",55,{name:\"kalyan\"}]\n",
    "\n",
    "const games = {\n",
    "    cricket:\"Dhoni\",\n",
    "    football:\"racer\"\n",
    "}\n",
    "\n",
    "console.log(Array.isArray(fruits))"
   ]
  }
 ],
 "metadata": {
  "language_info": {
   "name": "python"
  }
 },
 "nbformat": 4,
 "nbformat_minor": 2
}
