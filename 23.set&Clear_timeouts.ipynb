{
 "cells": [
  {
   "cell_type": "markdown",
   "metadata": {},
   "source": [
    "// Set & Clear Timeouts"
   ]
  },
  {
   "cell_type": "code",
   "execution_count": null,
   "metadata": {},
   "outputs": [],
   "source": [
    "// it will delay the code"
   ]
  },
  {
   "cell_type": "code",
   "execution_count": null,
   "metadata": {},
   "outputs": [],
   "source": []
  },
  {
   "cell_type": "markdown",
   "metadata": {},
   "source": [
    "![p](0.images\\img27.png)"
   ]
  },
  {
   "cell_type": "code",
   "execution_count": null,
   "metadata": {
    "vscode": {
     "languageId": "javascript"
    }
   },
   "outputs": [],
   "source": [
    "// after waiting 5 seconds it will turn into red colour\n",
    "\n",
    "const changer = setTimeout(function () {\n",
    "    const myelement = document.getElementById(\"title\")\n",
    "    myelement.style.color = \"red\"\n",
    "    myelement.style.fontSize = \"5rem\"\n",
    "}, 5000)"
   ]
  },
  {
   "cell_type": "markdown",
   "metadata": {},
   "source": [
    "![p](0.images\\img28.png)"
   ]
  },
  {
   "cell_type": "code",
   "execution_count": null,
   "metadata": {
    "vscode": {
     "languageId": "javascript"
    }
   },
   "outputs": [],
   "source": [
    "// .html :\n",
    "\n",
    "<!DOCTYPE html>\n",
    "<html lang=\"en\">\n",
    "<head>\n",
    "    <meta charset=\"UTF-8\">\n",
    "    <meta name=\"viewport\" content=\"width=device-width, initial-scale=1.0\">\n",
    "    <title> Javascript series </title>\n",
    "</head>\n",
    "<body>\n",
    "    <h1 id=\"title\"> welcome to the Javascipt </h1>\n",
    "    <button id=\"stop\" onclick=\"stopAction()\"> stopAction</button>\n",
    "    <script src=\"project.js\"> </script>\n",
    "</body>\n",
    "</html>\n",
    "\n",
    ".Js:\n",
    "\n",
    "const changer = setTimeout(function () {\n",
    "    const myelement = document.getElementById(\"title\")\n",
    "    myelement.style.color = \"red\"\n",
    "    myelement.style.fontSize = \"5rem\"\n",
    "}, 5000)\n",
    "\n",
    "\n",
    "function stopAction() {\n",
    "    clearTimeout(changer)\n",
    "}"
   ]
  },
  {
   "cell_type": "code",
   "execution_count": null,
   "metadata": {
    "vscode": {
     "languageId": "javascript"
    }
   },
   "outputs": [],
   "source": [
    "//"
   ]
  }
 ],
 "metadata": {
  "language_info": {
   "name": "python"
  }
 },
 "nbformat": 4,
 "nbformat_minor": 2
}
