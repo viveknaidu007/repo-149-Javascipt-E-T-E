{
 "cells": [
  {
   "cell_type": "code",
   "execution_count": null,
   "metadata": {},
   "outputs": [],
   "source": [
    "#variables in Js"
   ]
  },
  {
   "cell_type": "code",
   "execution_count": null,
   "metadata": {},
   "outputs": [],
   "source": [
    "\"\"\"in Javascipt , variables are used to store and manipulate data.\n",
    "they server as named containers that hold values.\n",
    "\"\"\""
   ]
  },
  {
   "cell_type": "code",
   "execution_count": null,
   "metadata": {},
   "outputs": [],
   "source": [
    "#types of varibales:\n",
    "\n",
    "#1.Var\n",
    "#2.Let\n",
    "#3.Const"
   ]
  },
  {
   "cell_type": "code",
   "execution_count": null,
   "metadata": {},
   "outputs": [],
   "source": [
    "#console\n",
    "\n",
    "a = \"apple\";\n",
    "console.log(a)"
   ]
  },
  {
   "cell_type": "code",
   "execution_count": null,
   "metadata": {},
   "outputs": [],
   "source": [
    "#1.Var: behaviour\n",
    "\n",
    "var vivek = \"playing\"\n",
    "console.log(vivek)\n",
    "\n",
    "\n",
    "var vivek = \"singing\"\n",
    "console.log(vivek)\n",
    "\n",
    "#here we can define same varibales name in \"var\" keyword so many times no problem \n",
    "\n",
    "#here , when variables is declared using \"var\" keyword can change its value and redefined"
   ]
  },
  {
   "cell_type": "code",
   "execution_count": null,
   "metadata": {},
   "outputs": [],
   "source": [
    "#2.Let: behaviour\n",
    "\n",
    "let school = \"nursery\"\n",
    "console.log(school)\n",
    "\n",
    "school = \"primary\"\n",
    "\n",
    "console.log(school)\n",
    "\n",
    "#here once we use \"let\" keyword we cannot give same variable in \"let\" but we can change value\n",
    "#here we cannot declare variables name second time as same name\n",
    "\n",
    "#here, a varibales with \"let\" keyword cannot be redefined but change its value "
   ]
  },
  {
   "cell_type": "code",
   "execution_count": null,
   "metadata": {},
   "outputs": [],
   "source": [
    "#3.Const: behaviour \n",
    "\n",
    "const ground = \"stadium\"\n",
    "console.log(ground)\n",
    "\n",
    "ground = \"something\"\n",
    "console.log(ground)\n",
    "\n",
    "#here once we used \"const\" keyword , we cannot declare and value also we cannot change\n",
    "\n",
    "#here , a variable with \"const\" keyword , neither the value can be change or a variable can be redefined"
   ]
  }
 ],
 "metadata": {
  "language_info": {
   "name": "python"
  }
 },
 "nbformat": 4,
 "nbformat_minor": 2
}
