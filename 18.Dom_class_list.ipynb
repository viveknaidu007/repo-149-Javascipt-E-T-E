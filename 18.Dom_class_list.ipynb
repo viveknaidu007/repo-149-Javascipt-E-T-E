{
 "cells": [
  {
   "cell_type": "code",
   "execution_count": null,
   "metadata": {},
   "outputs": [],
   "source": []
  },
  {
   "cell_type": "markdown",
   "metadata": {},
   "source": [
    "![p](0.images\\img20.png)"
   ]
  },
  {
   "cell_type": "code",
   "execution_count": null,
   "metadata": {
    "vscode": {
     "languageId": "javascript"
    }
   },
   "outputs": [],
   "source": [
    "// class list"
   ]
  },
  {
   "cell_type": "markdown",
   "metadata": {},
   "source": [
    "![p](0.images\\img21.png)"
   ]
  },
  {
   "cell_type": "code",
   "execution_count": null,
   "metadata": {
    "vscode": {
     "languageId": "javascript"
    }
   },
   "outputs": [],
   "source": [
    "// .JS :\n",
    "\n",
    "const openNav = document.getElementById(\"open\")\n",
    "const closeNav = document.getElementById(\"close\")\n",
    "\n",
    "const sideNavBar = document.querySelector(\".sidenav\")\n",
    "\n",
    "closeNav.addEventListener(\"click\", closeSideNavBar)\n",
    "\n",
    "function closeSideNavBar() {\n",
    "    sideNavBar.classList.add(\"apple\")\n",
    "    document.querySelector(\".apple\").computedStyleMap.display = \"none\"\n",
    "}\n",
    "\n",
    "\n",
    "function openSideNavBar() {\n",
    "    sideNavBar.style.display = \"block\"\n",
    "}"
   ]
  },
  {
   "cell_type": "code",
   "execution_count": null,
   "metadata": {
    "vscode": {
     "languageId": "javascript"
    }
   },
   "outputs": [],
   "source": [
    "// Remove and Toggle classList:\n",
    "\n",
    "\n",
    "\n",
    "//Remove:\n",
    "const openNav = document.getElementById(\"open\")\n",
    "const closeNav = document.getElementById(\"close\")\n",
    "\n",
    "const sideNavBar = document.querySelector(\".sidenav\")\n",
    "\n",
    "closeNav.addEventListener(\"click\", closeSideNavBar)\n",
    "\n",
    "function closeSideNavBar() {\n",
    "    sideNavBar.classList.remove(\"apple\")   // here updated\n",
    "}\n",
    "\n",
    "\n",
    "function openSideNavBar() {\n",
    "    sideNavBar.style.display = \"block\"\n",
    "}\n",
    "\n",
    "\n",
    "\n",
    "//Toggle:\n",
    "\n",
    "const openNav = document.getElementById(\"open\")\n",
    "const closeNav = document.getElementById(\"close\")\n",
    "\n",
    "const sideNavBar = document.querySelector(\".sidenav\")\n",
    "\n",
    "closeNav.addEventListener(\"click\", closeSideNavBar)\n",
    "\n",
    "function closeSideNavBar() {\n",
    "    sideNavBar.classList.toggle(\"mango\")\n",
    "}\n"
   ]
  },
  {
   "cell_type": "code",
   "execution_count": null,
   "metadata": {
    "vscode": {
     "languageId": "javascript"
    }
   },
   "outputs": [],
   "source": [
    "// contains : it will tell if the element exits it will give \"True\" else \"False\"\n",
    "\n",
    "\n",
    "//Replace : it will replace the exist element class"
   ]
  }
 ],
 "metadata": {
  "language_info": {
   "name": "python"
  }
 },
 "nbformat": 4,
 "nbformat_minor": 2
}
